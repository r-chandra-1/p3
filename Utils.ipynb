{
 "cells": [
  {
   "cell_type": "code",
   "execution_count": 1,
   "metadata": {
    "collapsed": false
   },
   "outputs": [
    {
     "name": "stderr",
     "output_type": "stream",
     "text": [
      "Using TensorFlow backend.\n"
     ]
    }
   ],
   "source": [
    "import gc\n",
    "import csv\n",
    "from scipy.misc import imread\n",
    "import numpy as np\n",
    "from sklearn.model_selection import train_test_split\n",
    "import cv2\n",
    "import sklearn\n",
    "import json\n",
    "import matplotlib.pyplot as plt\n",
    "%matplotlib inline\n",
    "from keras.models import model_from_json\n",
    "from keras.models import Sequential\n",
    "from keras.optimizers import SGD, Adam, RMSprop\n",
    "from keras.layers import Dense, Dropout, Activation, Flatten, ELU, Lambda\n",
    "from keras.layers import Convolution2D, MaxPooling2D\n",
    "from keras.preprocessing.image import ImageDataGenerator, array_to_img, img_to_array\n"
   ]
  },
  {
   "cell_type": "code",
   "execution_count": null,
   "metadata": {
    "collapsed": true
   },
   "outputs": [],
   "source": [
    "def my_generator(data,batch_size=1):\n",
    "   while True:\n",
    "       print(\"new iteration\")\n",
    "       shuffle = np.random.choice(range(data.shape[0]),data.shape[0],replace=False)\n",
    "       data = data[shuffle]\n",
    "       for i in range(0,X.shape[0],batch_size):\n",
    "           yield (data[i:i+batch_size])"
   ]
  },
  {
   "cell_type": "code",
   "execution_count": null,
   "metadata": {
    "collapsed": false
   },
   "outputs": [],
   "source": [
    "X = np.array([1,2,3,4,5,6,7,8,9,10])\n",
    "y = np.array(['a','b','c','d','e','f','g','h','i','j'])\n",
    "\n",
    "g = my_generator(y,batch_size=2)\n",
    "for i in range(5):\n",
    "   a = next(g)\n",
    "   print(a)"
   ]
  },
  {
   "cell_type": "code",
   "execution_count": null,
   "metadata": {
    "collapsed": false
   },
   "outputs": [],
   "source": [
    "def data_generator1(X,y,batch_size=1):\n",
    "   while True:\n",
    "       print(\"starting with batch_size \",batch_size)\n",
    "       print()\n",
    "       Xs, ys = shuffle_data(X,y)\n",
    "       for i in range(0,X.shape[0],batch_size):\n",
    "           #print(ys[i:i+batch_size])\n",
    "           yield (Xs[i:i+batch_size], ys[i:i+batch_size])"
   ]
  },
  {
   "cell_type": "code",
   "execution_count": 11,
   "metadata": {
    "collapsed": true
   },
   "outputs": [],
   "source": [
    "def data_generator(X,y,batch_size=1):\n",
    "   print(\"in data_generator\")\n",
    "   total = len(X)\n",
    "  \n",
    "   while True:\n",
    "       print(\"starting with batch_size \",batch_size)\n",
    "       print()\n",
    "       Xs, ys = shuffle_data(X,y)\n",
    "       for i in range(0,total,batch_size):\n",
    "           print(ys[i:i+batch_size])\n",
    "           yield (Xs[i:i+batch_size], ys[i:i+batch_size])\n",
    "            \n",
    "            "
   ]
  },
  {
   "cell_type": "code",
   "execution_count": null,
   "metadata": {
    "collapsed": false
   },
   "outputs": [],
   "source": [
    "X = np.array([1,2,3,4,5,6,7,8,9,10,11,12])\n",
    "y = np.array([101,102,103,104,105,106,107,108,109,110,111,112])\n",
    "\n",
    "size = len(X)\n",
    "batch_size = 2\n",
    "num_iters = round(size/batch_size)\n",
    "\n",
    "g = data_generator1(X,y,batch_size)\n",
    "for i in range(num_iters):\n",
    "   a,b = next(g)\n",
    "   print(a)\n",
    "   print(b)\n",
    "   print('=====') "
   ]
  },
  {
   "cell_type": "code",
   "execution_count": 12,
   "metadata": {
    "collapsed": false
   },
   "outputs": [
    {
     "name": "stdout",
     "output_type": "stream",
     "text": [
      "in data_generatorEpoch 1/3\n",
      "\n",
      "starting with batch_size  4\n",
      "\n",
      "[[  4.]\n",
      " [ 16.]\n",
      " [  8.]\n",
      " [  1.]]\n",
      "[[ 20.]\n",
      " [ 18.]\n",
      " [  3.]\n",
      " [  5.]]\n",
      "[[  2.]\n",
      " [ 15.]\n",
      " [ 10.]\n",
      " [ 13.]]\n",
      "[[ 11.]\n",
      " [ 19.]\n",
      " [ 17.]\n",
      " [  7.]]\n",
      "[[  9.]\n",
      " [  6.]\n",
      " [ 14.]\n",
      " [ 12.]]\n",
      "starting with batch_size  4\n",
      "\n",
      "[[  8.]\n",
      " [  1.]\n",
      " [ 11.]\n",
      " [ 15.]]\n",
      "[[ 13.]\n",
      " [ 20.]\n",
      " [ 14.]\n",
      " [  7.]]\n",
      "[[ 19.]\n",
      " [  6.]\n",
      " [ 17.]\n",
      " [  5.]]\n",
      "[[ 10.]\n",
      " [ 12.]\n",
      " [  3.]\n",
      " [ 18.]]\n",
      "[[  2.]\n",
      " [  4.]\n",
      " [ 16.]\n",
      " [  9.]]\n",
      "starting with batch_size  4\n",
      "\n",
      "[[ 20.]\n",
      " [ 16.]\n",
      " [ 10.]\n",
      " [ 13.]]\n",
      "[[  9.]\n",
      " [  5.]\n",
      " [ 15.]\n",
      " [  7.]]\n",
      "[[ 14.]\n",
      " [  3.]\n",
      " [ 12.]\n",
      " [ 17.]]\n",
      "[[ 18.]\n",
      " [  4.]\n",
      " [  2.]\n",
      " [ 19.]]\n",
      "[[ 11.]\n",
      " [  1.]\n",
      " [  6.]\n",
      " [  8.]]\n",
      "2s - loss: 72.9159 - acc: 0.1000\n",
      "Epoch 2/3\n",
      "starting with batch_size  4\n",
      "\n",
      "[[ 11.]\n",
      " [  5.]\n",
      " [  7.]\n",
      " [ 17.]]\n",
      "[[ 12.]\n",
      " [  4.]\n",
      " [  9.]\n",
      " [ 10.]]\n",
      "[[ 18.]\n",
      " [ 19.]\n",
      " [  6.]\n",
      " [ 14.]]\n",
      "[[ 16.]\n",
      " [  3.]\n",
      " [  2.]\n",
      " [  1.]]\n",
      "[[ 20.]\n",
      " [  8.]\n",
      " [ 15.]\n",
      " [ 13.]]\n",
      "2s - loss: 46.8865 - acc: 0.0500\n",
      "Epoch 3/3\n",
      "starting with batch_size  4\n",
      "\n",
      "[[ 15.]\n",
      " [  4.]\n",
      " [ 10.]\n",
      " [  7.]]\n",
      "[[ 14.]\n",
      " [ 17.]\n",
      " [ 11.]\n",
      " [  3.]]\n",
      "[[ 18.]\n",
      " [ 19.]\n",
      " [ 13.]\n",
      " [  9.]]\n",
      "[[ 20.]\n",
      " [  5.]\n",
      " [ 16.]\n",
      " [  2.]]\n",
      "[[  1.]\n",
      " [  6.]\n",
      " [  8.]\n",
      " [ 12.]]\n",
      "2s - loss: 30.5935 - acc: 0.1000\n",
      "[[  1.58684778]\n",
      " [  9.36040211]\n",
      " [ 10.1980505 ]\n",
      " [ 10.44154358]]\n",
      "Original values...\n",
      "[ 1.]\n",
      "[ 3.]\n",
      "[ 11.]\n"
     ]
    }
   ],
   "source": [
    "model = get_model()\n",
    "\n",
    "total = len(X)\n",
    "batch_size = 4\n",
    "\n",
    "    \n",
    "history = model.fit_generator(data_generator(X,y,batch_size), samples_per_epoch = total, nb_epoch = 3,\n",
    "verbose=2, callbacks=[], validation_data=None, class_weight=None, nb_worker=1)\n",
    "\n",
    "print(model.predict(X_val[0:4]))\n",
    "\n",
    "print(\"Original values...\")\n",
    "for i in range(3):\n",
    "    print(y_val[i])"
   ]
  },
  {
   "cell_type": "code",
   "execution_count": 6,
   "metadata": {
    "collapsed": true
   },
   "outputs": [],
   "source": [
    "path = \"data/\"\n",
    "filename = \"dummy.csv\"   \n",
    "model_name = \"dumm\""
   ]
  },
  {
   "cell_type": "code",
   "execution_count": 4,
   "metadata": {
    "collapsed": false
   },
   "outputs": [],
   "source": [
    "def load_csv():\n",
    "    image_paths = {}\n",
    "    steering_angles = {}\n",
    "    \n",
    "    with open(path+filename, 'r') as f:\n",
    "        reader = csv.reader(f)\n",
    "        next(reader, None) \n",
    "\n",
    "        index = 0\n",
    "        for row in reader:\n",
    "           image_paths[index] = row[0]\n",
    "           steering_angles[index] = float(row[3]) \n",
    "           index+=1\n",
    "    return image_paths, steering_angles\n",
    "\n",
    "def load_data():\n",
    "    image_paths, steering_angles = load_csv()\n",
    "    size = len(image_paths)\n",
    "    shape = imread(path+image_paths[0]).shape\n",
    "    imshape = shape\n",
    "    \n",
    "    X = np.zeros(shape=(size,shape[0],shape[1],shape[2]))\n",
    "    y = np.zeros(shape=(size,1)).astype(float)\n",
    "    \n",
    "    for i in range(size):\n",
    "        img = imread(path+image_paths[i])\n",
    "        img = cv2.cvtColor(img, cv2.COLOR_BGR2GRAY)\n",
    "        #img = img[55:140:,:,:]\n",
    "        #img = cv2.resize(img,(320,160))\n",
    "        X[i] = img_to_array(img)\n",
    "        y[i] = steering_angles[i]\n",
    "        i+=1\n",
    "    \n",
    "    return X, y\n",
    "\n",
    "\n",
    "def shuffle_data(X, y):\n",
    "    size = len(X)\n",
    "    X_shuf = np.empty(shape=X.shape)\n",
    "    y_shuf = np.empty(shape=y.shape)\n",
    "    \n",
    "    index_shuf = np.arange(len(X))\n",
    "    \n",
    "    np.random.shuffle(index_shuf)\n",
    "    \n",
    "    index = 0\n",
    "    \n",
    "    for i in index_shuf:\n",
    "        X_shuf[index] = X[i]\n",
    "        y_shuf[index] = y[i]\n",
    "        index+=1\n",
    "        \n",
    "    return X_shuf, y_shuf \n",
    "\n",
    "\n",
    "def get_model():\n",
    "    model = Sequential()\n",
    "\n",
    "    model.add(Lambda(lambda x: x/127.5 - 1., input_shape=X_train[0].shape,output_shape=X_train[0].shape))\n",
    "\n",
    "    model.add(Convolution2D(24, 5, 5, border_mode='same', init=\"normal\"))\n",
    "    model.add(MaxPooling2D(pool_size=(2, 2)))\n",
    "    model.add(ELU())\n",
    "\n",
    "    model.add(Convolution2D(36, 5, 5, border_mode='same'))\n",
    "    model.add(MaxPooling2D(pool_size=(2, 2)))\n",
    "    model.add(ELU())\n",
    "\n",
    "    model.add(Convolution2D(48, 5, 5, border_mode='same'))\n",
    "    model.add(MaxPooling2D(pool_size=(2, 2)))\n",
    "    model.add(ELU())\n",
    "\n",
    "    model.add(Convolution2D(64, 5, 5, border_mode='same'))\n",
    "    model.add(MaxPooling2D(pool_size=(2, 2)))\n",
    "    model.add(ELU())\n",
    "\n",
    "\n",
    "    model.add(Flatten())\n",
    "    model.add(Dense(100))\n",
    "    model.add(ELU())\n",
    "\n",
    "    model.add(Dense(50))\n",
    "    model.add(ELU())\n",
    "\n",
    "    model.add(Dense(10))\n",
    "    model.add(ELU())\n",
    "\n",
    "    model.add(Dense(1))\n",
    "\n",
    "    opt = Adam(lr=0.001)\n",
    "    model.compile(loss='mean_squared_error',optimizer=opt,metrics=['accuracy'])\n",
    "    \n",
    "    return model"
   ]
  },
  {
   "cell_type": "code",
   "execution_count": 8,
   "metadata": {
    "collapsed": false
   },
   "outputs": [],
   "source": [
    "X,y = load_data()\n",
    "Xs, ys = shuffle_data(X,y)"
   ]
  },
  {
   "cell_type": "code",
   "execution_count": 9,
   "metadata": {
    "collapsed": true
   },
   "outputs": [],
   "source": [
    "X_train, X_val, y_train, y_val = train_test_split(Xs, ys, test_size=0.25, random_state=42)\n"
   ]
  },
  {
   "cell_type": "code",
   "execution_count": null,
   "metadata": {
    "collapsed": false
   },
   "outputs": [],
   "source": [
    "model = get_model()\n",
    "history = model.fit(X_train, y_train, nb_epoch=3, batch_size=20, verbose = 1)\n",
    "print(model.predict(X_val[0:4]))\n",
    "\n",
    "print(\"Original values...\")\n",
    "for i in range(3):\n",
    "    print(y_val[i])"
   ]
  },
  {
   "cell_type": "code",
   "execution_count": null,
   "metadata": {
    "collapsed": false
   },
   "outputs": [],
   "source": [
    "\n",
    "model.save_weights(model_name+\".h5\")\n",
    "model_json = model.to_json()\n",
    "with open(model_name+\".json\", \"w\") as json_file:\n",
    "    json_file.write(model_json)\n",
    "# serialize weights to HDF5\n",
    "\n",
    "print(\"Saved model to disk\")\n",
    "\n"
   ]
  },
  {
   "cell_type": "code",
   "execution_count": null,
   "metadata": {
    "collapsed": true
   },
   "outputs": [],
   "source": [
    "checkpoint = ModelCheckpoint(\"model-{epoch:02d}.h5\", monitor='loss',\n",
    "    verbose=1, save_best_only=False, mode='max')\n",
    "\n",
    "    callbacks_list = [checkpoint]\n",
    "    \n",
    "history = model.fit_generator(batchgen(x_train_less, y_train_less),         \n",
    "        samples_per_epoch = samples_per_epoch, nb_epoch = nb_epoch,\n",
    "                    verbose=1, max_q_size = max_q_size, callbacks=callbacks_list,         \n",
    "        validation_data=None, class_weight=None,\n",
    "                     pickle_safe=False)\n",
    "\n"
   ]
  },
  {
   "cell_type": "code",
   "execution_count": null,
   "metadata": {
    "collapsed": true
   },
   "outputs": [],
   "source": [
    "for idx in range(5):\n",
    "  ... \n",
    "  model = get_model()\n",
    "  history = model.fit_generator(train_data_generator, samples_per_epoch=20480,\n",
    "                  nb_epoch=6, validation_data=valid_data_generator,\n",
    "                  nb_val_samples=val_size)\n",
    "                  \n",
    "  ... \n",
    "  val_loss = history.history['val_loss'][0]\n",
    "  # Save your model \n",
    "\n",
    " # Adaptive throttle - Both Track\n",
    "    if (abs(float(speed)) < 10):\n",
    "        throttle = 0.5 \n",
    "    else:\n",
    "        # When speed is below 20 then increase throttle by speed_factor\n",
    "        if (abs(float(speed)) < 25):\n",
    "            speed_factor = 1.35\n",
    "        else:\n",
    "            speed_factor = 1.0 \n",
    "        if (abs(steering_angle) < 0.1): \n",
    "            throttle = 0.3 * speed_factor\n",
    "        elif (abs(steering_angle) < 0.5):\n",
    "            throttle = 0.2 * speed_factor\n",
    "        else:\n",
    "            throttle = 0.15 * speed_factor\n",
    "    print(steering_angle, throttle, speed)"
   ]
  }
 ],
 "metadata": {
  "anaconda-cloud": {},
  "kernelspec": {
   "display_name": "Python [conda root]",
   "language": "python",
   "name": "conda-root-py"
  },
  "language_info": {
   "codemirror_mode": {
    "name": "ipython",
    "version": 3
   },
   "file_extension": ".py",
   "mimetype": "text/x-python",
   "name": "python",
   "nbconvert_exporter": "python",
   "pygments_lexer": "ipython3",
   "version": "3.5.2"
  }
 },
 "nbformat": 4,
 "nbformat_minor": 1
}
